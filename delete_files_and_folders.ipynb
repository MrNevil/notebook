{
  "nbformat": 4,
  "nbformat_minor": 0,
  "metadata": {
    "kernelspec": {
      "display_name": "Python 3",
      "language": "python",
      "name": "python3"
    },
    "language_info": {
      "codemirror_mode": {
        "name": "ipython",
        "version": 3
      },
      "file_extension": ".py",
      "mimetype": "text/x-python",
      "name": "python",
      "nbconvert_exporter": "python",
      "pygments_lexer": "ipython3",
      "version": "3.7.1"
    },
    "colab": {
      "name": "delete_files_and_folders.ipynb",
      "provenance": [],
      "include_colab_link": true
    }
  },
  "cells": [
    {
      "cell_type": "markdown",
      "metadata": {
        "id": "view-in-github",
        "colab_type": "text"
      },
      "source": [
        "<a href=\"https://colab.research.google.com/github/MrNevil/notebook/blob/master/delete_files_and_folders.ipynb\" target=\"_parent\"><img src=\"https://colab.research.google.com/assets/colab-badge.svg\" alt=\"Open In Colab\"/></a>"
      ]
    },
    {
      "cell_type": "code",
      "metadata": {
        "id": "3LUwQAsfFGhf"
      },
      "source": [
        "# importing the required modules\n",
        "import os\n",
        "import shutil\n",
        "import time\n",
        "from datetime import datetime\n",
        "import sys"
      ],
      "execution_count": null,
      "outputs": []
    },
    {
      "cell_type": "markdown",
      "metadata": {
        "id": "6d0iyc_OFGho"
      },
      "source": [
        "## Piece of code to create log file with current date time"
      ]
    },
    {
      "cell_type": "code",
      "metadata": {
        "id": "A97_xnT1FGhq",
        "outputId": "19b69656-2062-42dc-95b9-702b5ace7be7"
      },
      "source": [
        "def get_filename_datetime():\n",
        "# Use current date and time to get a text file name.\n",
        "    return \"log_\" + str(datetime.today().strftime('%Y_%m_%d__%H_%M_%S')) + \".txt\"\n",
        "\n",
        "name = get_filename_datetime() \n",
        "print(\"NAME: \", name)\n",
        "\n",
        "log_path = \"z:\\\\testing\\\\\" + name  \n",
        "print(\"PATH: \", log_path);\n",
        "\n",
        "f = open(log_path, \"a\", encoding='utf-8')\n"
      ],
      "execution_count": null,
      "outputs": [
        {
          "name": "stdout",
          "output_type": "stream",
          "text": [
            "NAME:  log_2021_08_20__12_25_10.txt\n",
            "PATH:  z:\\testing\\log_2021_08_20__12_25_10.txt\n"
          ]
        }
      ]
    },
    {
      "cell_type": "markdown",
      "metadata": {
        "id": "Q7wsdjjpFGhy"
      },
      "source": [
        "## Function to get age of file or folder"
      ]
    },
    {
      "cell_type": "code",
      "metadata": {
        "id": "kToP6aEgFGhz"
      },
      "source": [
        "def get_file_or_folder_age(path):\n",
        "\n",
        "\t# getting ctime of the file/folder\n",
        "\t# time will be in seconds\n",
        "\tctime = os.stat(path).st_ctime\n",
        "\n",
        "\t# returning the time\n",
        "\treturn ctime"
      ],
      "execution_count": null,
      "outputs": []
    },
    {
      "cell_type": "markdown",
      "metadata": {
        "id": "1N6bd-x7FGh0"
      },
      "source": [
        "## Function to remove file "
      ]
    },
    {
      "cell_type": "code",
      "metadata": {
        "id": "8joopPWwFGh1"
      },
      "source": [
        "def remove_file(path):\n",
        "\n",
        "\t# removing the file\n",
        "\tif not os.remove(path):\n",
        "\n",
        "\t\t# success message\n",
        "\t\tf.write(f\"\\n{path} is removed successfully\")\n",
        "\n",
        "\telse:\n",
        "\n",
        "\t\t# failure message\n",
        "\t\tf.write(f\"\\nUnable to delete the {path}\")\n",
        "\n",
        "\n"
      ],
      "execution_count": null,
      "outputs": []
    },
    {
      "cell_type": "markdown",
      "metadata": {
        "id": "QA7hpJClFGh4"
      },
      "source": [
        "## Function to remove folder"
      ]
    },
    {
      "cell_type": "code",
      "metadata": {
        "id": "duo-N8-_FGh6"
      },
      "source": [
        "def remove_folder(path):\n",
        "\n",
        "\t# removing the folder\n",
        "\tif not os.rmdir(path):\n",
        "\n",
        "\t\t# success message\n",
        "\t\tf.write(f\"\\n{path} is removed successfully\")\n",
        "\n",
        "\telse:\n",
        "\n",
        "\t\t# failure message\n",
        "\t\tf.write(f\"\\nUnable to delete the {path}\")\n"
      ],
      "execution_count": null,
      "outputs": []
    },
    {
      "cell_type": "markdown",
      "metadata": {
        "id": "YYCNctqtFGh8"
      },
      "source": [
        "## Main function and algorithm"
      ]
    },
    {
      "cell_type": "code",
      "metadata": {
        "scrolled": true,
        "id": "bg02jMNoFGh9",
        "outputId": "8ebc8d77-7c9e-4f8f-d9bc-f5830ea8137e"
      },
      "source": [
        "# main function\n",
        "def main():\n",
        "\n",
        "    # initializing the count\n",
        "    deleted_folders_count = 0\n",
        "    deleted_files_count = 0\n",
        "\n",
        "    path = input(\"Enter Path: \")\n",
        "    path = path.replace(\"/\",\"//\")\n",
        "    exclude = ['MonitorLog']\n",
        "\n",
        "    days = int(input(\"Enter no. of days: \"))\n",
        "\n",
        "    duration = time.time() - (days * 24 * 60 * 60)\n",
        "\n",
        "\n",
        "    '''def get_filename_datetime():\n",
        "    # Use current date and time to get a text file name.\n",
        "        return \"log_\" + str(datetime.today().strftime('%Y_%m_%d__%H_%M_%S')) + \".txt\"\n",
        "\n",
        "    name = get_filename_datetime() \n",
        "    print(\"NAME: \", name)\n",
        "\n",
        "    log_path = \"z:\\\\testing\\\\\" + name  \n",
        "    print(\"PATH: \", log_path)\n",
        "\n",
        "    \n",
        "    # Write data to file.\n",
        "    # f.write(\"HELLO\\n\")\n",
        "    # f.write(\"WORLD\\n\")\n",
        "\n",
        "    # specify the path\n",
        "'''\n",
        "\n",
        "    if os.path.exists(path):\n",
        "\n",
        "        for (root,folders,files) in os.walk(path,topdown=False):\n",
        "\n",
        "\n",
        "            for file in files:\n",
        "\n",
        "                file_path = os.path.join(root, file)\n",
        "\n",
        "                if duration >= get_file_or_folder_age(file_path):\n",
        "\n",
        "                    remove_file(file_path)\n",
        "                    deleted_files_count += 1\n",
        "\n",
        "                    # NO NEED print(f\"File {file} deleted successfully\")\n",
        "\n",
        "\n",
        "            for folder in folders:\n",
        "\n",
        "                folder_path = os.path.join(root, folder)\n",
        "                notemptydir = os.path.isdir(folder_path)\n",
        "\n",
        "                if not notemptydir:\n",
        "\n",
        "                    if duration >= get_file_or_folder_age(folder_path):\n",
        "\n",
        "                        remove_folder(folder_path)\n",
        "                        deleted_folders_count += 1\n",
        "\n",
        "                        # NO NEED print(f\"Folder {folder} deleted successfully\")\n",
        "\n",
        "\n",
        "\n",
        "\n",
        "\n",
        "                '''if duration >= get_file_or_folder_age(path):\n",
        "\n",
        "                    remove_file(path)\n",
        "                    deleted_files_count += 1 '''\n",
        "\n",
        "\n",
        "    f.write(f\"\\nTotal folders deleted: {deleted_folders_count}\")\n",
        "    f.write(f\"\\nTotal files deleted: {deleted_files_count}\")\n",
        "\n",
        "\n",
        "\n",
        "if __name__ == '__main__':\n",
        "    main()\n",
        "    f.close()"
      ],
      "execution_count": null,
      "outputs": [
        {
          "name": "stdout",
          "output_type": "stream",
          "text": [
            "Enter Path: Z:\\testing\\New folder\n",
            "Enter no. of days: 0\n"
          ]
        }
      ]
    },
    {
      "cell_type": "code",
      "metadata": {
        "id": "lZo0fZOfFGlV"
      },
      "source": [
        ""
      ],
      "execution_count": null,
      "outputs": []
    },
    {
      "cell_type": "code",
      "metadata": {
        "id": "ckvQkE2GFGlW"
      },
      "source": [
        ""
      ],
      "execution_count": null,
      "outputs": []
    },
    {
      "cell_type": "code",
      "metadata": {
        "id": "RqjMqOCcFGlW"
      },
      "source": [
        ""
      ],
      "execution_count": null,
      "outputs": []
    },
    {
      "cell_type": "code",
      "metadata": {
        "id": "y0SluXTqFGlX"
      },
      "source": [
        ""
      ],
      "execution_count": null,
      "outputs": []
    },
    {
      "cell_type": "code",
      "metadata": {
        "id": "0jWOIUoqFGlY"
      },
      "source": [
        ""
      ],
      "execution_count": null,
      "outputs": []
    },
    {
      "cell_type": "code",
      "metadata": {
        "id": "cjdwqJoQFGlY"
      },
      "source": [
        ""
      ],
      "execution_count": null,
      "outputs": []
    },
    {
      "cell_type": "code",
      "metadata": {
        "id": "n04lmWiUFGlZ"
      },
      "source": [
        ""
      ],
      "execution_count": null,
      "outputs": []
    },
    {
      "cell_type": "code",
      "metadata": {
        "id": "TpcskxlSFGlZ"
      },
      "source": [
        ""
      ],
      "execution_count": null,
      "outputs": []
    },
    {
      "cell_type": "code",
      "metadata": {
        "id": "98-DWPIqFGla"
      },
      "source": [
        ""
      ],
      "execution_count": null,
      "outputs": []
    },
    {
      "cell_type": "code",
      "metadata": {
        "id": "pX3buvCsFGla"
      },
      "source": [
        ""
      ],
      "execution_count": null,
      "outputs": []
    },
    {
      "cell_type": "code",
      "metadata": {
        "id": "97KXy4E7FGlb"
      },
      "source": [
        ""
      ],
      "execution_count": null,
      "outputs": []
    },
    {
      "cell_type": "code",
      "metadata": {
        "id": "6ITPDk-1FGlb"
      },
      "source": [
        ""
      ],
      "execution_count": null,
      "outputs": []
    },
    {
      "cell_type": "code",
      "metadata": {
        "id": "4pOppkiTFGlb"
      },
      "source": [
        ""
      ],
      "execution_count": null,
      "outputs": []
    },
    {
      "cell_type": "code",
      "metadata": {
        "id": "wde4ewbZFGlc"
      },
      "source": [
        "# importing the required modules\n",
        "import os\n",
        "import shutil\n",
        "import time\n",
        "\n",
        "\n",
        "def get_file_or_folder_age(path):\n",
        "\n",
        "\t# getting ctime of the file/folder\n",
        "\t# time will be in seconds\n",
        "\tctime = os.stat(path).st_ctime\n",
        "\n",
        "\t# returning the time\n",
        "\treturn ctime\n",
        "\n",
        "def remove_file(path):\n",
        "\n",
        "\t# removing the file\n",
        "\tif not os.remove(path):\n",
        "\n",
        "\t\t# success message\n",
        "\t\tprint(f\"{path} is removed successfully\")\n",
        "\n",
        "\telse:\n",
        "\n",
        "\t\t# failure message\n",
        "\t\tprint(f\"Unable to delete the {path}\")\n",
        "        \n",
        "\n",
        "def remove_folder(path):\n",
        "\n",
        "\t# removing the folder\n",
        "\tif not shutil.rmtree(path):\n",
        "\n",
        "\t\t# success message\n",
        "\t\tprint(f\"{path} is removed successfully\")\n",
        "\n",
        "\telse:\n",
        "\n",
        "\t\t# failure message\n",
        "\t\tprint(f\"Unable to delete the {path}\")\n",
        "        \n",
        "        \n",
        "        \n",
        "# main function\n",
        "def main():\n",
        "\n",
        "    # initializing the count\n",
        "    deleted_folders_count = 0\n",
        "    deleted_files_count = 0\n",
        "\n",
        "    # specify the path\n",
        "    path = input(\"Enter Path: \")\n",
        "\n",
        "    exclude = ['MonitorLog']\n",
        "    \n",
        "    days = int(input(\"Enter no. of days: \"))\n",
        "\n",
        "    duration = time.time() - (days * 24 * 60 * 60)\n",
        "\n",
        "\n",
        "\n",
        "\n",
        "\n",
        "    if os.path.exists(path):\n",
        "\n",
        "        for (root,folders,files) in os.walk(path,topdown=False):\n",
        "\n",
        "            for file in files:\n",
        "\n",
        "                file_path = os.path.join(root, file)\n",
        "\n",
        "                if duration >= get_file_or_folder_age(file_path):\n",
        "\n",
        "                    remove_file(file_path)\n",
        "                    print(f\"File {file} deleted successfully\")\n",
        "                    deleted_files_count += 1\n",
        "\n",
        "            \n",
        "            for folder in folders:\n",
        "\n",
        "                folder_path = os.path.join(root, folder)\n",
        "\n",
        "\n",
        "                if duration >= get_file_or_folder_age(folder_path):\n",
        "\n",
        "                    remove_folder(folder_path)\n",
        "                    print(f\"Folder {folder} deleted successfully\")\n",
        "                    deleted_folders_count += 1\n",
        "\n",
        "\n",
        "\n",
        "\n",
        "                if duration >= get_file_or_folder_age(path):\n",
        "\n",
        "\n",
        "                    remove_file(path)\n",
        "                    deleted_files_count += 1 \n",
        "\n",
        "\n",
        "    print(f\"Total folders deleted: {deleted_folders_count}\")\n",
        "    print(f\"Total files deleted: {deleted_files_count}\")\n",
        "\n",
        "\n",
        "\n",
        "if __name__ == '__main__':\n",
        "    main()"
      ],
      "execution_count": null,
      "outputs": []
    },
    {
      "cell_type": "code",
      "metadata": {
        "id": "8GQ7a3PDFGlg"
      },
      "source": [
        "#with open()\n",
        "\n",
        "'''\n",
        "current_date_and_time = datetime.datetime.now()\n",
        "current_date_and_time_string = str(current_date_and_time)\n",
        "extension = \".txt\"\n",
        "\n",
        "file_name =  current_date_and_time_string + extension'''\n",
        "\n",
        "\n",
        "file = open(file_name, 'w')\n",
        "\n",
        "\n",
        "\n",
        "\n",
        "sys.stdout = open('filename1.txt', 'w')\n",
        "\n",
        "filename1 = datetime.datetime.now().strftime(\"%Y%m%d-%H%M%S\")\n",
        "sys.stdout = open(filename1 + '.txt', 'w')\n",
        "\n",
        "\n",
        "\n",
        "file.close()\n",
        "\n",
        "\n",
        "\n",
        "\n",
        "\n",
        "\n",
        "\n",
        "\n",
        "\n",
        "\n",
        "\n",
        "\n",
        "\n",
        "\n",
        "\n",
        "\n",
        "\n",
        "\n",
        "\n",
        "\n",
        "\n",
        "\n",
        "\n",
        "\n",
        "\n",
        "\n",
        "\n",
        "\n",
        "\n",
        "import datetime\n",
        "  \n",
        "# datetime.datetime.now() to get \n",
        "# current date as filename.\n",
        "filename = datetime.datetime.now()\n",
        "  \n",
        "# create empty file\n",
        "def create_file():\n",
        "    # Function creates an empty file\n",
        "    # %d - date, %B - month, %Y - Year\n",
        "    with open(filename.strftime(\"%d %B %Y\")+\".txt\", \"w\") as file:\n",
        "        file.write(\"\")\n",
        "  \n",
        "# Driver Code\n",
        "create_file()"
      ],
      "execution_count": null,
      "outputs": []
    },
    {
      "cell_type": "code",
      "metadata": {
        "id": "Dvxtzd7yFGlj"
      },
      "source": [
        "# Best working code for file handling\n",
        "\n",
        "\n",
        "from datetime import datetime\n",
        "\n",
        "def get_filename_datetime():\n",
        "    # Use current date and time to get a text file name.\n",
        "    return \"log_\" + str(datetime.today().strftime('%Y_%m_%d__%H_%M_%S')) + \".txt\"\n",
        "\n",
        "\n",
        "# Get full path for writing.\n",
        "name = get_filename_datetime()\n",
        "print(\"NAME: \", name)\n",
        "\n",
        "log_path = \"z:\\\\testing\\\\\" + name\n",
        "print(\"PATH: \", log_path);\n",
        "\n",
        "with open(log_path, \"w\") as f:\n",
        "    # Write data to file.\n",
        "    # f.write(\"HELLO\\n\")\n",
        "     #f.write(\"WORLD\\n\")"
      ],
      "execution_count": null,
      "outputs": []
    }
  ]
}